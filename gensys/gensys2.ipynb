{
 "cells": [
  {
   "cell_type": "code",
   "execution_count": null,
   "metadata": {},
   "outputs": [],
   "source": [
    "import sympy as sym\n",
    "import numpy as np\n",
    "from sympy import symbols, Eq\n",
    "import matplotlib.pyplot as plt"
   ]
  },
  {
   "cell_type": "markdown",
   "metadata": {},
   "source": [
    "# Sims 1999"
   ]
  },
  {
   "cell_type": "markdown",
   "metadata": {},
   "source": [
    "$$\\Gamma_0 y_t=\\Gamma_1 y_{t-1}+C+\\Psi z_t+\\Pi\\eta_t$$\n",
    "For the moment, assume $\\Gamma_0$ is invertible"
   ]
  },
  {
   "cell_type": "code",
   "execution_count": null,
   "metadata": {},
   "outputs": [],
   "source": [
    "class Gensys:\n",
    "    def __init__(self,parameters:str, variables:str, shocks:str,equations):\n",
    "        ''' \n",
    "        variables: str\n",
    "        string of variables separated by commas.\n",
    "        '''\n",
    "        self.vars = {v:symbols(v) for v in variables.replace(\" \", \"\").split(',')}\n",
    "        self.n_var = len(self.vars)\n",
    "        self.shocks = {s:symbols(s) for s in shocks.replace(\" \", \"\").split(',')}\n",
    "        self.n_shocks = len(self.shocks)\n",
    "        self.parameters = {p:symbols(p) for p in parameters.replace(\" \", \"\").split(',')}\n",
    "        self.symbolic_system = None\n",
    "        self.numeric_system = None\n",
    "        self.matrix_solution = None\n",
    "        self.calibration = None\n",
    "        #self.equations = {Eq(*[eval(i) for i in eq.split('=')]) for eq in equations}\n",
    "        pass\n",
    "\n",
    "    def get_matrices(self,equations, var, var_, z, eta):\n",
    "        Gamma0,_ = sym.linear_eq_to_matrix(equations, var)\n",
    "        Gamma1,_ = sym.linear_eq_to_matrix(_,var_)\n",
    "        Psi, _ = sym.linear_eq_to_matrix(_, z)\n",
    "        Eta, C = sym.linear_eq_to_matrix(_, eta)\n",
    "        Psi = -Psi\n",
    "        C = -C\n",
    "        self.symbolic_system={'Gamma0':Gamma0, 'Gamma1':Gamma1,'Psi':Psi, 'Eta':Eta, 'C':C}\n",
    "        pass\n",
    "        \n",
    "    def calibrate(self,calibration):\n",
    "        self.calibration = calibration\n",
    "        Gamma0 = self.symbolic_system['Gamma0'].subs(calibration)\n",
    "        Gamma1 = self.symbolic_system['Gamma1'].subs(calibration)\n",
    "        Psi = self.symbolic_system['Psi'].subs(calibration)\n",
    "        Eta = self.symbolic_system['Eta']\n",
    "        C = self.symbolic_system['C'].subs(calibration)\n",
    "        self.numeric_system = {'Gamma0':Gamma0, 'Gamma1':Gamma1,'Psi':Psi, 'Eta':Eta, 'C':C}\n",
    "        pass\n",
    "\n",
    "    def solve(self):\n",
    "        return self._solve(**self.numeric_system)\n",
    "     \n",
    "    def _solve(self, Gamma0, Gamma1, Psi, Eta, C):\n",
    "        Gamma0_inv=Gamma0.inv()\n",
    "        Gamma1, C, Psi, Eta = Gamma0_inv@Gamma1, Gamma0_inv@C, Gamma0_inv@Psi, Gamma0_inv@Eta \n",
    "        P, Lambda = Gamma1.diagonalize()\n",
    "        ind = list(np.argsort(np.abs(np.diag(np.abs(Lambda)))))\n",
    "        Lambda = sym.diag(*[Lambda[i,i] for i in ind])\n",
    "        n_s = len([Lambda[i,i] for i in range(Lambda.rows) if np.abs(Lambda[i,i])<1])\n",
    "        n_u = Lambda.rows-n_s        \n",
    "        P=P.permute_cols(ind)  \n",
    "        P = np.array(P).astype(np.complex128) \n",
    "        P_inv = np.linalg.inv(P)\n",
    "        Lambda_S=Lambda[:n_s,:n_s]\n",
    "        Lambda_U=Lambda[n_s:,n_s:]\n",
    "        Theta_1 = P[:,:n_s]@Lambda_S@P_inv[:n_s,:]\n",
    "        Theta_c = (P[:,:n_s]@P_inv[:n_s,:]+P[:,n_s:]@(sym.eye(n_u)-Lambda_U)@P_inv[n_s:,:])@C\n",
    "        Phi = P_inv[:n_s,:]@Eta@(P_inv[n_s:,:]@Eta).inv()\n",
    "        Theta_z = (P[:,:n_s]@P_inv[:n_s,:]-P[:,:n_s]@Phi@P_inv[n_s:,:])@Psi\n",
    "        Theta_1 = np.real(np.array(Theta_1).astype(np.complex64))\n",
    "        Theta_c = np.real(np.array(Theta_c).astype(np.complex64))\n",
    "        Theta_z = np.real(np.array(Theta_z).astype(np.complex64)) \n",
    "        self.matrix_solution={'Theta_1':Theta_1,'Theta_c':Theta_c, 'Theta_z':Theta_z}\n",
    "    \n",
    "    def impulse_response(self, z:np.array, T:int = 25):\n",
    "        '''\n",
    "        z: initial shock\n",
    "        '''\n",
    "        n_var = self.n_var\n",
    "        Theta_1 = self.matrix_solution['Theta_1']\n",
    "        Theta_c = self.matrix_solution['Theta_c']\n",
    "        Theta_z = self.matrix_solution['Theta_z']\n",
    "        z_t = np.zeros((T,self.n_shocks))\n",
    "        z_t[:,0] = z\n",
    "        y_t = np.zeros((T,n_var))\n",
    "        t=np.arange(0,T)\n",
    "        for i in range(1,T):\n",
    "            y_t[i]=(Theta_1@y_t[[i-1]].T+Theta_c+Theta_z@z_t[[i]].T).flatten()\n",
    "\n",
    "        max_cols=3\n",
    "        fig,ax=plt.subplots(nrows=(n_var-1)//max_cols+1,ncols=min(n_var,max_cols), figsize=(10,10))\n",
    "        for i in range(n_var):\n",
    "            ax[i//max_cols,i%max_cols].plot(t,y_t[:,i])\n",
    "        fig.show()"
   ]
  },
  {
   "cell_type": "markdown",
   "metadata": {},
   "source": [
    "## Galí (2015) sticky prices"
   ]
  },
  {
   "cell_type": "markdown",
   "metadata": {},
   "source": [
    "**Define simbolic variables, parameters and shocks**"
   ]
  },
  {
   "cell_type": "code",
   "execution_count": null,
   "metadata": {},
   "outputs": [],
   "source": [
    "E_y, E_pi, y_, pi_ = symbols('E_{t-1}y_t,E_{t-1}\\pi^p_t, y_{t-1}, \\pi_{t-1}')\n",
    "Ey1, Epi1, y, pi = symbols('E_ty_{t+1},E_t\\pi^p_{t+1}, y_t, \\pi_t')\n",
    "phi_y, phi_p =symbols('\\phi_y, \\phi_p')\n",
    "lam = symbols('\\lambda')\n",
    "sigma, kappa, beta, rho = symbols('sigma, kappa, beta, rho')\n",
    "eta_y, eta_pi = symbols('\\eta_y, \\eta_{\\pi}')\n",
    "v, v_ = symbols('v_t, v_{t-1}')\n",
    "rho_v = symbols('\\\\rho_v')\n",
    "eps_v = symbols('\\epsilon_v')"
   ]
  },
  {
   "cell_type": "markdown",
   "metadata": {},
   "source": [
    "**Define static equations**"
   ]
  },
  {
   "cell_type": "code",
   "execution_count": null,
   "metadata": {},
   "outputs": [],
   "source": [
    "i = rho+phi_p*pi+phi_y*y+v"
   ]
  },
  {
   "cell_type": "markdown",
   "metadata": {},
   "source": [
    "**Define system equations**"
   ]
  },
  {
   "cell_type": "code",
   "execution_count": null,
   "metadata": {},
   "outputs": [],
   "source": [
    "is_curve = Eq(y, Ey1-1/sigma*(i-Epi1-rho))\n",
    "nkpc = Eq(pi, beta*Epi1+kappa*y)\n",
    "exp_y = Eq(y, E_y+eta_y)\n",
    "exp_pi = Eq(pi, E_pi+eta_pi)\n",
    "v_ar=Eq(v, rho_v*v_+eps_v)"
   ]
  },
  {
   "cell_type": "markdown",
   "metadata": {},
   "source": [
    "**Define Variables, lags, shocks and expectation errors**"
   ]
  },
  {
   "cell_type": "code",
   "execution_count": null,
   "metadata": {},
   "outputs": [],
   "source": [
    "var  = Ey1, Epi1, y, pi, v\n",
    "var_ = E_y, E_pi, y_, pi_, v_\n",
    "z = eps_v,\n",
    "eta = eta_y, eta_pi"
   ]
  },
  {
   "cell_type": "markdown",
   "metadata": {},
   "source": [
    "**Calibration**"
   ]
  },
  {
   "cell_type": "code",
   "execution_count": null,
   "metadata": {},
   "outputs": [],
   "source": [
    "calibration={'beta':0.99, 'phi':5, 'alpha':1/4, 'eps':9,\n",
    "             '\\phi_p':1.5, '\\phi_y':0.5/4,'\\\\rho_v':0.5,\n",
    "             'sigma':1,\n",
    "              'theta':3/4}\n",
    "calibration['Theta']=(1-calibration['alpha'])/(1-calibration['alpha']+calibration['alpha']*calibration['eps'])\n",
    "calibration['lambda']=(1-calibration['theta'])*(1-calibration['beta']*calibration['theta'])/calibration['theta']*calibration['Theta']\n",
    "calibration['kappa']=calibration['lambda']*(calibration['sigma']+(calibration['phi']+calibration['alpha'])/(1-calibration['alpha']))\n"
   ]
  },
  {
   "cell_type": "code",
   "execution_count": null,
   "metadata": {},
   "outputs": [],
   "source": [
    "g=Gensys('f,s,f','y,e,d,f,g','e',0)\n",
    "g.get_matrices([is_curve,nkpc, exp_y, exp_pi, v_ar], var, var_, z, eta)\n",
    "g.calibrate(calibration)\n",
    "g.solve()"
   ]
  },
  {
   "cell_type": "code",
   "execution_count": null,
   "metadata": {},
   "outputs": [],
   "source": [
    "g.impulse_response(z=-0.25)"
   ]
  },
  {
   "cell_type": "markdown",
   "metadata": {},
   "source": [
    "## Galí Sticky Wage"
   ]
  },
  {
   "cell_type": "code",
   "execution_count": null,
   "metadata": {},
   "outputs": [],
   "source": [
    "E_y, E_pi_p, E_pi_w, y_, pi_p_, pi_w_, w_= symbols('E_{t-1}y_t E_{t-1}\\pi^p_t E_{t-1}\\pi^w_t y_{t-1} \\pi^p_{t-1} pi^w_{t-1} omega_{t-1}')\n",
    "Ey1, Epi_p1, Epi_w1, y, pi_p, pi_w, w = symbols('E_ty_{t+1} E_t\\pi^p_{t+1} E_tpi^w_{t+1} y_t pi^p_t pi^w_t omega_t')\n",
    "phi_y, phi_p, phi_w =symbols('phi_y phi_p phi_w')\n",
    "lam_p, lam_w = symbols('lambda_p lambda_w')\n",
    "sigma, kappa, beta, rho = symbols('sigma, kappa, beta, rho')\n",
    "eta_y, eta_pi_p, eta_pi_w = symbols('\\eta_y, \\eta_{\\pi^p}, \\eta_{\\pi^w}')\n",
    "chi_p, chi_w = symbols('chi_p chi_w')\n",
    "v, v_ = symbols('v_t, v_{t-1}')\n",
    "rho_v = symbols('\\\\rho_v')\n",
    "eps_v = symbols('\\epsilon_v')"
   ]
  },
  {
   "cell_type": "code",
   "execution_count": null,
   "metadata": {},
   "outputs": [],
   "source": [
    "i=rho+phi_p*pi_p+phi_w*pi_w+phi_y*y+v\n",
    "\n",
    "equations=[\n",
    "    Eq(y, Ey1-1/sigma*(i-Epi_p1-rho)), #IS curve\n",
    "    Eq(pi_p, beta*Epi_p1+chi_p*y+lam_p*w),  #Price NKPC\n",
    "    Eq(pi_w, beta*Epi_w1+chi_w*y-lam_w*w),  #Price NKPC\n",
    "    Eq(w, w_+pi_w-pi_p), #Real wage gap\n",
    "    Eq(y, E_y+eta_y), # Expectation error for y\n",
    "    Eq(pi_p, E_pi_p+eta_pi_p), #Expectation error for pi^p\n",
    "    Eq(pi_w, E_pi_w+eta_pi_w), #Expectation error for pi^w\n",
    "    Eq(v, rho_v*v_+eps_v) #V\n",
    "]"
   ]
  },
  {
   "cell_type": "code",
   "execution_count": null,
   "metadata": {},
   "outputs": [],
   "source": [
    "var  = Ey1, Epi_p1, Epi_w1, y, pi_p, pi_w, w, v\n",
    "var_ = E_y, E_pi_p, E_pi_w, y_, pi_p_, pi_w_, w_, v_\n",
    "z = eps_v,\n",
    "eta = eta_y, eta_pi"
   ]
  },
  {
   "cell_type": "code",
   "execution_count": null,
   "metadata": {},
   "outputs": [],
   "source": [
    "calibration={'beta':0.99, 'phi':5, 'alpha':1/4, 'sigma':1,\n",
    "             'eps_p':9, 'eps_w':4.5,\n",
    "             'phi_p':1.5, 'phi_y':0.5/4, 'phi_w':0, '\\\\rho_v':0.5,\n",
    "             'theta_p':3/4, 'theta_w':3/4}\n",
    "\n",
    "calibration['Theta']=(1-calibration['alpha'])/(1-calibration['alpha']+calibration['alpha']*calibration['eps_p'])\n",
    "calibration['lambda_p']=(1-calibration['theta_p'])*(1-calibration['beta']*calibration['theta_p'])/calibration['theta_p']*calibration['Theta']\n",
    "calibration['lambda_w']= (1-calibration['theta_w'])*(1-calibration['beta']*calibration['theta_w'])/(calibration['theta_w']*(1+calibration['eps_w']*calibration['phi']))\n",
    "\n",
    "calibration['chi_p']=calibration['alpha']*calibration['lambda_p']*(1-calibration['alpha'])\n",
    "calibration['chi_w']=calibration['lambda_w']*(calibration['sigma']+calibration['phi']/(1-calibration['alpha']))\n"
   ]
  },
  {
   "cell_type": "code",
   "execution_count": null,
   "metadata": {},
   "outputs": [],
   "source": [
    "g=Gensys('f,s,f','q,w,e,r,t,y,u,i','e',0)\n",
    "g.get_matrices(equations, var, var_, z, eta)\n",
    "g.calibrate(calibration)\n",
    "g.solve()"
   ]
  },
  {
   "cell_type": "code",
   "execution_count": null,
   "metadata": {},
   "outputs": [],
   "source": [
    "g.impulse_response(z=-0.25)"
   ]
  },
  {
   "cell_type": "code",
   "execution_count": null,
   "metadata": {},
   "outputs": [],
   "source": []
  }
 ],
 "metadata": {
  "kernelspec": {
   "display_name": "Python 3.9.13 64-bit (windows store)",
   "language": "python",
   "name": "python3"
  },
  "language_info": {
   "codemirror_mode": {
    "name": "ipython",
    "version": 3
   },
   "file_extension": ".py",
   "mimetype": "text/x-python",
   "name": "python",
   "nbconvert_exporter": "python",
   "pygments_lexer": "ipython3",
   "version": "3.9.13"
  },
  "orig_nbformat": 4,
  "vscode": {
   "interpreter": {
    "hash": "b6211d3380c6fc8b8ff7c7eb49b32c9b972fb045d7b218033824c523dbcd32c9"
   }
  }
 },
 "nbformat": 4,
 "nbformat_minor": 2
}
