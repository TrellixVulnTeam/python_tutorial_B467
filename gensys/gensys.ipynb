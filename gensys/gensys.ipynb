{
 "cells": [
  {
   "cell_type": "code",
   "execution_count": 2,
   "metadata": {},
   "outputs": [],
   "source": [
    "import sympy as sym\n",
    "import numpy as np\n",
    "from sympy import symbols, Eq\n",
    "from sympy.abc import beta, theta, sigma, rho, phi, mu, nu"
   ]
  },
  {
   "cell_type": "markdown",
   "metadata": {},
   "source": [
    "**Define simbolic variables**"
   ]
  },
  {
   "cell_type": "code",
   "execution_count": 3,
   "metadata": {},
   "outputs": [],
   "source": [
    "lam_p, lam_w, eps_p, eps_w,phi_pi=symbols('\\lambda_p , \\lambda_w ,\\epsilon_p,\\epsilon_w,\\phi_{\\pi}')\n",
    "p,w,y,i,pi_p,pi_w = symbols('p_t,w_t,y_t,i_t,\\pi^{p}_t,\\pi^{w}_t')\n",
    "p1,w1,y1,i1,pi_p1,pi_w1 = symbols('p_{t+1},w_{t+1},y_{t+1},i_{t+1},\\pi^{p}_{t+1},\\pi^{w}_{t+1}')\n",
    "pt,wt,pit_p, pit_w=symbols('\\\\tilde{p}_t,\\\\tilde{w}_t,\\\\tilde{\\pi}^{p}_t,\\\\tilde{\\pi}^{w}_t')\n",
    "pt1,wt1,pit_p1, pit_w1=symbols('\\\\tilde{p}_{t+1},\\\\tilde{w}_{t+1},\\\\tilde{\\pi}^{p}_{t+1},\\\\tilde{\\pi}^{w}_{t+1}')\n",
    "mu = sym.log(eps_p/(eps_p-1))"
   ]
  },
  {
   "cell_type": "markdown",
   "metadata": {},
   "source": [
    "**Define Equilibrium Equations**"
   ]
  },
  {
   "cell_type": "code",
   "execution_count": 4,
   "metadata": {},
   "outputs": [],
   "source": [
    "eq1  = Eq(pi_p1,p1-p)\n",
    "eq2  = Eq(pi_w1,w1-w)\n",
    "eq3  = Eq(pit_p1,pt1-pt)\n",
    "eq4  = Eq(pit_w1,wt1-wt)\n",
    "eq5  = Eq((phi+sigma)*y1,w1-p1)\n",
    "eq6  = Eq((1-theta)*eps_p*(p1-pt1),theta*eps_w*(w1-wt1))\n",
    "eq7  = Eq(y, y1-1/sigma*(rho+phi_pi*pi_p1+nu-pi_p1-rho))\n",
    "eq8  = Eq(pit_p, (1-lam_p)*beta*pit_p1+(1-beta*(1-lam_p))*(p-pt-eps_w/(eps_w+eps_p)*(p-w-mu)))\n",
    "eq9  = Eq(pit_w, (1-lam_w)*beta*pit_w1+(1-beta*(1-lam_w))*(w-wt+eps_p/(eps_w+eps_p)*(p-w-mu)))"
   ]
  },
  {
   "cell_type": "markdown",
   "metadata": {},
   "source": [
    "$$\\Gamma_0 y_t =\\Gamma_1 y_{t-1}+C+\\Psi z_t+\\Pi\\eta_t$$\n",
    "\n",
    "$y_t = (E_t\\{p_{t+1}\\},E_t\\{\\tilde p_{t+1}\\}, E_t\\{\\pi_{t+1}^p\\},E_t\\{\\tilde\\pi_{t+1}^p\\}, E_t\\{w_{t+1}\\}, E_t\\{\\tilde w_{t+1}\\}, E_t\\{\\pi_{t+1}^w\\}, E_t\\{\\tilde\\pi_{t+1}^w\\},E_t\\{y_{t+1}\\})$"
   ]
  },
  {
   "cell_type": "code",
   "execution_count": 30,
   "metadata": {},
   "outputs": [],
   "source": [
    "x = [p1,w1,pt1,wt1,y1,pi_p1,pi_w1,pit_p1,pit_w1]\n",
    "x_ =[p, w, pt, wt, y, pi_p, pi_w, pit_p, pit_w]\n",
    "z = [nu]"
   ]
  },
  {
   "cell_type": "markdown",
   "metadata": {},
   "source": [
    "**Define Matrices**"
   ]
  },
  {
   "cell_type": "code",
   "execution_count": 31,
   "metadata": {},
   "outputs": [],
   "source": [
    "Gamma0,_ = sym.linear_eq_to_matrix([eq1,eq2,eq3,eq4,eq5,eq6,eq7,eq8,eq9],x)\n",
    "Gamma1,_ = sym.linear_eq_to_matrix(_,x_)\n",
    "Psi, C = sym.linear_eq_to_matrix(_, z)\n",
    "Eta = sym.Matrix([[1,0,0,0,0,0,0,0,0],\n",
    "                  [0,1,0,0,0,0,0,0,0]]).T"
   ]
  },
  {
   "cell_type": "markdown",
   "metadata": {},
   "source": [
    "**Calibrate**"
   ]
  },
  {
   "cell_type": "code",
   "execution_count": 32,
   "metadata": {},
   "outputs": [],
   "source": [
    "calibration={'beta':0.98, 'theta':1/2,'sigma':2,'phi':2,'\\epsilon_w':5,'\\epsilon_p':5,\n",
    "'\\lambda_p':0.25, '\\lambda_w':0.25, '\\phi_{\\pi}':1.2}"
   ]
  },
  {
   "cell_type": "code",
   "execution_count": 33,
   "metadata": {},
   "outputs": [],
   "source": [
    "Gamma0 = Gamma0.subs(calibration)\n",
    "Gamma1 = Gamma1.subs(calibration)\n",
    "C = C.subs(calibration)\n",
    "Psi = Psi.subs(calibration)\n",
    "Eta = Eta.subs(calibration)"
   ]
  },
  {
   "cell_type": "code",
   "execution_count": 34,
   "metadata": {},
   "outputs": [
    {
     "data": {
      "text/latex": [
       "$\\displaystyle \\left[\\begin{matrix}-1 & 0 & 0 & 0 & 0 & 1 & 0 & 0 & 0\\\\0 & -1 & 0 & 0 & 0 & 0 & 1 & 0 & 0\\\\0 & 0 & -1 & 0 & 0 & 0 & 0 & 1 & 0\\\\0 & 0 & 0 & -1 & 0 & 0 & 0 & 0 & 1\\\\1 & -1 & 0 & 0 & 4 & 0 & 0 & 0 & 0\\\\2.5 & -2.5 & -2.5 & 2.5 & 0 & 0 & 0 & 0 & 0\\\\0 & 0 & 0 & 0 & -1 & 0.1 & 0 & 0 & 0\\\\0 & 0 & 0 & 0 & 0 & 0 & 0 & -0.735 & 0\\\\0 & 0 & 0 & 0 & 0 & 0 & 0 & 0 & -0.735\\end{matrix}\\right]$"
      ],
      "text/plain": [
       "Matrix([\n",
       "[ -1,    0,    0,   0,  0,   1, 0,      0,      0],\n",
       "[  0,   -1,    0,   0,  0,   0, 1,      0,      0],\n",
       "[  0,    0,   -1,   0,  0,   0, 0,      1,      0],\n",
       "[  0,    0,    0,  -1,  0,   0, 0,      0,      1],\n",
       "[  1,   -1,    0,   0,  4,   0, 0,      0,      0],\n",
       "[2.5, -2.5, -2.5, 2.5,  0,   0, 0,      0,      0],\n",
       "[  0,    0,    0,   0, -1, 0.1, 0,      0,      0],\n",
       "[  0,    0,    0,   0,  0,   0, 0, -0.735,      0],\n",
       "[  0,    0,    0,   0,  0,   0, 0,      0, -0.735]])"
      ]
     },
     "execution_count": 34,
     "metadata": {},
     "output_type": "execute_result"
    }
   ],
   "source": [
    "Gamma0"
   ]
  },
  {
   "cell_type": "code",
   "execution_count": null,
   "metadata": {},
   "outputs": [],
   "source": [
    "Gamma0_inv=Gamma0.inv()\n",
    "Gamma1, C, Psi, Eta = Gamma0_inv@Gamma1, Gamma0_inv@C, Gamma0_inv@Psi, Gamma0_inv@Eta \n",
    "P, Lambda = Gamma1.diagonalize()\n",
    "P_inv = P.inv()\n",
    "ind = list(np.argsort(np.abs(np.diag(np.abs(Lambda)))))\n",
    "Lambda = sym.diag(*[Lambda[i,i] for i in ind])\n",
    "P=P.permute_cols(ind)"
   ]
  },
  {
   "cell_type": "code",
   "execution_count": null,
   "metadata": {},
   "outputs": [],
   "source": [
    "n_s = len([Lambda[i,i] for i in range(Lambda.rows) if np.abs(Lambda[i,i])<1])"
   ]
  },
  {
   "cell_type": "code",
   "execution_count": 13,
   "metadata": {},
   "outputs": [],
   "source": [
    "def solve_system(Gamma0:sym.Matrix, Gamma1:sym.Matrix, C:sym.Matrix, Psi:sym.Matrix, Eta:sym.Matrix)->tuple:\n",
    "    if np.abs(Gamma0.det())<1e-10:\n",
    "        raise ValueError('Gamma0 is not invertible')\n",
    "    Gamma0_inv=Gamma0.inv()\n",
    "    Gamma1, C, Psi, Eta = Gamma0_inv@Gamma1, Gamma0_inv@C, Gamma0_inv@Psi, Gamma0_inv@Eta \n",
    "    P, Lambda = Gamma1.diagonalize()\n",
    "    P_inv = P.inv()\n",
    "    ind = list(np.argsort(np.abs(np.diag(np.abs(Lambda)))))\n",
    "    Lambda = sym.diag(*[Lambda[i,i] for i in ind])\n",
    "    P=P.permute_cols(ind)\n",
    "    n_s = len([Lambda[i,i] for i in range(Lambda.rows) if np.abs(Lambda[i,i])<1])\n",
    "    n_u = Lambda.rows-n_s\n",
    "    Lambda_S=Lambda[:n_s,:n_s]\n",
    "    Lambda_U=Lambda[n_s:,n_s:]\n",
    "    Theta_1 = P*sym.diag(Lambda_S, sym.zeros((n_u,n_u)))*P_inv\n",
    "    #Theta_c = P*sym.Matrix([[sym.eye(n_s)],(sym.eye(n_u)-Lambda_U).inv()])*P_inv\n",
    "    #Theta_z = P*sym.Matrix([[sym.eye(Psi.rows), Psi],[0,0]])*P_inv\n",
    "    Theta_c = None\n",
    "    Theta_z = None\n",
    "    return Theta_1, Theta_c, Theta_z"
   ]
  },
  {
   "cell_type": "code",
   "execution_count": null,
   "metadata": {},
   "outputs": [],
   "source": [
    "Theta_1, Theta_c, Theta_z = solve_system(Gamma0, Gamma1, C, Psi, Eta)"
   ]
  },
  {
   "cell_type": "markdown",
   "metadata": {},
   "source": [
    "## Galí (2015) Sticky wages and sticky prices"
   ]
  },
  {
   "cell_type": "code",
   "execution_count": 32,
   "metadata": {},
   "outputs": [],
   "source": [
    "import sympy as sym\n",
    "import numpy as np\n",
    "from sympy import symbols, Eq\n",
    "from sympy.abc import alpha, beta, theta, sigma, rho, phi, mu, nu\n",
    "y,pi_p, pi_w, w_ = symbols('y_t,\\pi^p_t,\\pi_t^w,\\omega_{t-1}')\n",
    "y1,pi_p1, pi_w1, w = symbols('E_ty_{t+1},E_t\\pi^p_{t+1},E_t\\pi_{t+1}^w,\\omega_t')\n",
    "\n",
    "phi_y, phi_p, phi_w=symbols('\\phi_y, \\phi_p, \\phi_w')\n",
    "lam_p, lam_w = symbols('\\lambda_p, \\lambda_w')\n",
    "chi_p, chi_w = symbols('chi_p, chi_w')\n",
    "\n",
    "v, Delta_w = symbols('v, \\Delta\\omega_t^n')"
   ]
  },
  {
   "cell_type": "code",
   "execution_count": 33,
   "metadata": {},
   "outputs": [],
   "source": [
    "i = rho+phi_p*pi_p+phi_w*pi_w+phi_y*y+v"
   ]
  },
  {
   "cell_type": "code",
   "execution_count": 34,
   "metadata": {},
   "outputs": [],
   "source": [
    "is_curve = Eq(y, y1-1/sigma*(i-pi_p1-rho))\n",
    "real_wage = Eq(w, w_+pi_w-pi_p-Delta_w)\n",
    "price_nkpc = Eq(pi_w, beta*pi_w1+chi_w*y-lam_w*w)\n",
    "wage_nkpc = Eq(pi_p, beta*pi_p1+chi_p*y+lam_p*w)"
   ]
  },
  {
   "cell_type": "code",
   "execution_count": 35,
   "metadata": {},
   "outputs": [],
   "source": [
    "var  = y1,pi_p1, pi_w1, w\n",
    "var_ = y,pi_p, pi_w, w_\n",
    "z = v, Delta_w"
   ]
  },
  {
   "cell_type": "code",
   "execution_count": 36,
   "metadata": {},
   "outputs": [],
   "source": [
    "Gamma0,_ = sym.linear_eq_to_matrix([is_curve,real_wage,price_nkpc,wage_nkpc], var)\n",
    "Gamma1,_ = sym.linear_eq_to_matrix(_,var_)\n",
    "Psi, C = sym.linear_eq_to_matrix(_, z)\n",
    "Eta = sym.Matrix([[0,1,0,0]]).T"
   ]
  },
  {
   "cell_type": "code",
   "execution_count": 37,
   "metadata": {},
   "outputs": [],
   "source": [
    "calibration={'beta':0.99, 'phi':5, 'alpha':1/4, 'eps_p':9,\n",
    "             '\\phi_p':1.5,'\\phi_w':0.125, '\\phi_y':0.5/4,\n",
    "             'eps_w':4.5, 'sigma':1,\n",
    "              'theta_p':3/4,'theta_w':3/4}"
   ]
  },
  {
   "cell_type": "code",
   "execution_count": 38,
   "metadata": {},
   "outputs": [],
   "source": [
    "class StickyWageNK():\n",
    "    def __init__(self):\n",
    "        self.calibration = None\n",
    "    def calibrate(self, calibration: dict):\n",
    "        theta_w = calibration['theta_w']\n",
    "        theta_p = calibration['theta_p']\n",
    "        beta = calibration['beta']\n",
    "        phi = calibration['phi']\n",
    "        eps_w = calibration['eps_w']\n",
    "        eps_p = calibration['eps_w']\n",
    "        alpha = calibration['alpha']\n",
    "        sigma = calibration['sigma']\n",
    "        calibration['\\lambda_w']=(1-theta_w)*(1-beta*theta_w)/(theta_w*(1+eps_w*phi))\n",
    "        calibration['\\lambda_p']=(1-theta_p)*(1-beta*theta_p)/(theta_p)*(1-alpha)/(1-alpha+alpha*eps_p)\n",
    "        calibration['chi_p'] = alpha*calibration['\\lambda_p']/(1-alpha)\n",
    "        calibration['chi_w'] = calibration['\\lambda_w']*(sigma+phi/(1-alpha))\n",
    "        self.calibration = calibration"
   ]
  },
  {
   "cell_type": "code",
   "execution_count": 39,
   "metadata": {},
   "outputs": [],
   "source": [
    "economy=StickyWageNK()\n",
    "economy.calibrate(calibration)"
   ]
  },
  {
   "cell_type": "code",
   "execution_count": 40,
   "metadata": {},
   "outputs": [],
   "source": [
    "calibration = economy.calibration"
   ]
  },
  {
   "cell_type": "code",
   "execution_count": 41,
   "metadata": {},
   "outputs": [],
   "source": [
    "Gamma0 = Gamma0.subs(calibration)\n",
    "Gamma1 = Gamma1.subs(calibration)\n",
    "C = C.subs(calibration)\n",
    "Psi = Psi.subs(calibration)"
   ]
  },
  {
   "cell_type": "code",
   "execution_count": null,
   "metadata": {},
   "outputs": [],
   "source": [
    "Gamma0_inv=Gamma0.inv()\n",
    "Gamma1, C, Psi, Eta = Gamma0_inv@Gamma1, Gamma0_inv@C, Gamma0_inv@Psi, Gamma0_inv@Eta \n",
    "P, Lambda = Gamma1.diagonalize()\n",
    "ind = list(np.argsort(np.abs(np.diag(np.abs(Lambda)))))\n",
    "Lambda = sym.diag(*[Lambda[i,i] for i in ind])\n",
    "P=P.permute_cols(ind)\n",
    "P_inv = P.inv()\n",
    "n_s = len([Lambda[i,i] for i in range(Lambda.rows) if np.abs(Lambda[i,i])<1])\n",
    "n_u = Lambda.rows-n_s\n",
    "Lambda_S=Lambda[:n_s,:n_s]\n",
    "Lambda_U=Lambda[n_s:,n_s:]\n",
    "Theta_1 = P[:,:n_s]*Lambda_S*P_inv[:n_s,:]\n",
    "Theta_c = P[:,:n_s]*P_inv[:n_s,:]+P[:,n_s:]*(sym.eye(n_u)-Lambda_U)*P_inv[n_s:,:]\n",
    "Phi = P[:,:n_s]*Eta*(P_inv[n_s:,:]*Eta).inv()\n",
    "Theta_z = P[:,:n_s]*P_inv[:n_s,:]-P[:,:n_s]*Phi*P_inv[n_s:,:]"
   ]
  },
  {
   "cell_type": "code",
   "execution_count": null,
   "metadata": {},
   "outputs": [],
   "source": []
  },
  {
   "cell_type": "code",
   "execution_count": 30,
   "metadata": {},
   "outputs": [
    {
     "data": {
      "text/latex": [
       "$\\displaystyle \\left[\\begin{matrix}-0.572221626323231 + 0.0886585437531521 i & -0.423030301569504 - 0.651789725522227 i & -1.46119245032438 - 1.62437436460687 i & -0.176201644740351 + 0.0201962910582168 i\\\\-0.0742595078742411 - 0.51302046788616 i & -0.668855428050685 - 0.191048128426249 i & -1.77367582333268 - 0.824409383235328 i & -0.0289465770003362 - 0.156108143050026 i\\\\-0.245537947552287 - 0.0752726868623043 i & -2.58608137004319 - 0.792795146771546 i & 1.91647411004567 + 0.587518780714989 i & 0.374572120934527 + 0.114829704522351 i\\end{matrix}\\right]$"
      ],
      "text/plain": [
       "Matrix([\n",
       "[-0.572221626323231 + 0.0886585437531521*I, -0.423030301569504 - 0.651789725522227*I,  -1.46119245032438 - 1.62437436460687*I, -0.176201644740351 + 0.0201962910582168*I],\n",
       "[ -0.0742595078742411 - 0.51302046788616*I, -0.668855428050685 - 0.191048128426249*I, -1.77367582333268 - 0.824409383235328*I, -0.0289465770003362 - 0.156108143050026*I],\n",
       "[-0.245537947552287 - 0.0752726868623043*I,  -2.58608137004319 - 0.792795146771546*I,  1.91647411004567 + 0.587518780714989*I,   0.374572120934527 + 0.114829704522351*I]])"
      ]
     },
     "execution_count": 30,
     "metadata": {},
     "output_type": "execute_result"
    }
   ],
   "source": [
    "P_inv[n_s:,:]"
   ]
  },
  {
   "cell_type": "code",
   "execution_count": 31,
   "metadata": {},
   "outputs": [
    {
     "data": {
      "text/latex": [
       "$\\displaystyle \\left[\\begin{matrix}0.0346801346801347\\\\-0.0346801346801347\\\\0.00368937602980156\\\\1\\end{matrix}\\right]$"
      ],
      "text/plain": [
       "Matrix([\n",
       "[ 0.0346801346801347],\n",
       "[-0.0346801346801347],\n",
       "[0.00368937602980156],\n",
       "[                  1]])"
      ]
     },
     "execution_count": 31,
     "metadata": {},
     "output_type": "execute_result"
    }
   ],
   "source": [
    "Eta"
   ]
  },
  {
   "cell_type": "code",
   "execution_count": 201,
   "metadata": {},
   "outputs": [
    {
     "data": {
      "text/latex": [
       "$\\displaystyle \\left[\\begin{matrix}-4.52593640537801 - 6.52170473917186 i & 0 & 0\\\\0 & -4.52593640537801 + 6.52170473917186 i & 0\\\\0 & 0 & -4.24487837822232 - 7.91340106096718 \\cdot 10^{-64} i\\end{matrix}\\right]$"
      ],
      "text/plain": [
       "Matrix([\n",
       "[-4.52593640537801 - 6.52170473917186*I,                                      0,                                          0],\n",
       "[                                     0, -4.52593640537801 + 6.52170473917186*I,                                          0],\n",
       "[                                     0,                                      0, -4.24487837822232 - 7.91340106096718e-64*I]])"
      ]
     },
     "execution_count": 201,
     "metadata": {},
     "output_type": "execute_result"
    }
   ],
   "source": [
    "(sym.eye(n_u)-Lambda_U).inv()"
   ]
  },
  {
   "cell_type": "code",
   "execution_count": null,
   "metadata": {},
   "outputs": [],
   "source": [
    "def solve_system(Gamma0:sym.Matrix, Gamma1:sym.Matrix, C:sym.Matrix, Psi:sym.Matrix, Eta:sym.Matrix)->tuple:\n",
    "    if np.abs(Gamma0.det())<1e-10:\n",
    "        raise ValueError('Gamma0 is not invertible')\n",
    "    Gamma0_inv=Gamma0.inv()\n",
    "    Gamma_1, C, Psi, Eta = Gamma0_inv@Gamma_1, Gamma0_inv@C, Gamma0_inv@Psi, Gamma0_inv@Eta \n",
    "    P, Lambda = Gamma1.diagonalize()\n",
    "    P_inv = P.inv()\n",
    "    ind = list(np.argsort(np.abs(np.diag(np.abs(Lambda)))))\n",
    "    Lambda = sym.diag(*[Lambda[i,i] for i in ind])\n",
    "    P=P.permute_cols(ind)\n",
    "    n_s = len([Lambda[i,i] for i in range(Lambda.rows) if np.abs(Lambda[i,i])<1])\n",
    "    n_u = Lambda.rows-n_s\n",
    "    Lambda_S=Lambda[:n_s,:n_s]\n",
    "    Lambda_U=Lambda[n_s:,n_s:]\n",
    "    Theta_1 = P*sym.diag(Lambda_S, sym.zeros((n_u,n_u)))*P_inv\n",
    "    #Theta_c = P*sym.Matrix([[sym.eye(n_s)],(sym.eye(n_u)-Lambda_U).inv()])*P_inv\n",
    "    #Theta_z = P*sym.Matrix([[sym.eye(Psi.rows), Psi],[0,0]])*P_inv\n",
    "    Theta_c = None\n",
    "    Theta_z = None\n",
    "    return Theta_1, Theta_c, Theta_z"
   ]
  }
 ],
 "metadata": {
  "kernelspec": {
   "display_name": "Python 3.9.13 64-bit (windows store)",
   "language": "python",
   "name": "python3"
  },
  "language_info": {
   "codemirror_mode": {
    "name": "ipython",
    "version": 3
   },
   "file_extension": ".py",
   "mimetype": "text/x-python",
   "name": "python",
   "nbconvert_exporter": "python",
   "pygments_lexer": "ipython3",
   "version": "3.9.13"
  },
  "orig_nbformat": 4,
  "vscode": {
   "interpreter": {
    "hash": "b6211d3380c6fc8b8ff7c7eb49b32c9b972fb045d7b218033824c523dbcd32c9"
   }
  }
 },
 "nbformat": 4,
 "nbformat_minor": 2
}
