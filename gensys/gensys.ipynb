{
 "cells": [
  {
   "cell_type": "code",
   "execution_count": 2,
   "metadata": {},
   "outputs": [],
   "source": [
    "import sympy as sym\n",
    "import numpy as np\n",
    "from sympy import symbols, Eq\n",
    "from sympy.abc import alpha, beta, theta, sigma, rho, phi, mu, nu"
   ]
  },
  {
   "cell_type": "markdown",
   "metadata": {},
   "source": [
    "## Galí (2015) Sticky wages and sticky prices"
   ]
  },
  {
   "cell_type": "code",
   "execution_count": 32,
   "metadata": {},
   "outputs": [],
   "source": [
    "y,pi_p, pi_w, w_ = symbols('y_t,\\pi^p_t,\\pi_t^w,\\omega_{t-1}')\n",
    "y1,pi_p1, pi_w1, w = symbols('E_ty_{t+1},E_t\\pi^p_{t+1},E_t\\pi_{t+1}^w,\\omega_t')\n",
    "\n",
    "phi_y, phi_p, phi_w=symbols('\\phi_y, \\phi_p, \\phi_w')\n",
    "lam_p, lam_w = symbols('\\lambda_p, \\lambda_w')\n",
    "chi_p, chi_w = symbols('chi_p, chi_w')\n",
    "\n",
    "v, Delta_w = symbols('v, \\Delta\\omega_t^n')"
   ]
  },
  {
   "cell_type": "code",
   "execution_count": 33,
   "metadata": {},
   "outputs": [],
   "source": [
    "i = rho+phi_p*pi_p+phi_w*pi_w+phi_y*y+v"
   ]
  },
  {
   "cell_type": "code",
   "execution_count": 34,
   "metadata": {},
   "outputs": [],
   "source": [
    "is_curve = Eq(y, y1-1/sigma*(i-pi_p1-rho))\n",
    "real_wage = Eq(w, w_+pi_w-pi_p-Delta_w)\n",
    "price_nkpc = Eq(pi_w, beta*pi_w1+chi_w*y-lam_w*w)\n",
    "wage_nkpc = Eq(pi_p, beta*pi_p1+chi_p*y+lam_p*w)"
   ]
  },
  {
   "cell_type": "code",
   "execution_count": 35,
   "metadata": {},
   "outputs": [],
   "source": [
    "var  = y1,pi_p1, pi_w1, w\n",
    "var_ = y,pi_p, pi_w, w_\n",
    "z = v, Delta_w"
   ]
  },
  {
   "cell_type": "code",
   "execution_count": 36,
   "metadata": {},
   "outputs": [],
   "source": [
    "Gamma0,_ = sym.linear_eq_to_matrix([is_curve,real_wage,price_nkpc,wage_nkpc], var)\n",
    "Gamma1,_ = sym.linear_eq_to_matrix(_,var_)\n",
    "Psi, C = sym.linear_eq_to_matrix(_, z)\n",
    "Eta = sym.Matrix([[0,1,0,0]]).T"
   ]
  },
  {
   "cell_type": "code",
   "execution_count": 37,
   "metadata": {},
   "outputs": [],
   "source": [
    "calibration={'beta':0.99, 'phi':5, 'alpha':1/4, 'eps_p':9,\n",
    "             '\\phi_p':1.5,'\\phi_w':0.125, '\\phi_y':0.5/4,\n",
    "             'eps_w':4.5, 'sigma':1,\n",
    "              'theta_p':3/4,'theta_w':3/4}"
   ]
  },
  {
   "cell_type": "code",
   "execution_count": 38,
   "metadata": {},
   "outputs": [],
   "source": [
    "class StickyWageNK():\n",
    "    def __init__(self):\n",
    "        self.calibration = None\n",
    "    def calibrate(self, calibration: dict):\n",
    "        theta_w = calibration['theta_w']\n",
    "        theta_p = calibration['theta_p']\n",
    "        beta = calibration['beta']\n",
    "        phi = calibration['phi']\n",
    "        eps_w = calibration['eps_w']\n",
    "        eps_p = calibration['eps_w']\n",
    "        alpha = calibration['alpha']\n",
    "        sigma = calibration['sigma']\n",
    "        calibration['\\lambda_w']=(1-theta_w)*(1-beta*theta_w)/(theta_w*(1+eps_w*phi))\n",
    "        calibration['\\lambda_p']=(1-theta_p)*(1-beta*theta_p)/(theta_p)*(1-alpha)/(1-alpha+alpha*eps_p)\n",
    "        calibration['chi_p'] = alpha*calibration['\\lambda_p']/(1-alpha)\n",
    "        calibration['chi_w'] = calibration['\\lambda_w']*(sigma+phi/(1-alpha))\n",
    "        self.calibration = calibration"
   ]
  },
  {
   "cell_type": "code",
   "execution_count": 39,
   "metadata": {},
   "outputs": [],
   "source": [
    "economy=StickyWageNK()\n",
    "economy.calibrate(calibration)"
   ]
  },
  {
   "cell_type": "code",
   "execution_count": 40,
   "metadata": {},
   "outputs": [],
   "source": [
    "calibration = economy.calibration"
   ]
  },
  {
   "cell_type": "code",
   "execution_count": 41,
   "metadata": {},
   "outputs": [],
   "source": [
    "Gamma0 = Gamma0.subs(calibration)\n",
    "Gamma1 = Gamma1.subs(calibration)\n",
    "C = C.subs(calibration)\n",
    "Psi = Psi.subs(calibration)"
   ]
  },
  {
   "cell_type": "code",
   "execution_count": null,
   "metadata": {},
   "outputs": [],
   "source": [
    "Gamma0_inv=Gamma0.inv()\n",
    "Gamma1, C, Psi, Eta = Gamma0_inv@Gamma1, Gamma0_inv@C, Gamma0_inv@Psi, Gamma0_inv@Eta \n",
    "P, Lambda = Gamma1.diagonalize()\n",
    "ind = list(np.argsort(np.abs(np.diag(np.abs(Lambda)))))\n",
    "Lambda = sym.diag(*[Lambda[i,i] for i in ind])\n",
    "P=P.permute_cols(ind)\n",
    "P_inv = P.inv()\n",
    "n_s = len([Lambda[i,i] for i in range(Lambda.rows) if np.abs(Lambda[i,i])<1])\n",
    "n_u = Lambda.rows-n_s\n",
    "Lambda_S=Lambda[:n_s,:n_s]\n",
    "Lambda_U=Lambda[n_s:,n_s:]\n",
    "Theta_1 = P[:,:n_s]*Lambda_S*P_inv[:n_s,:]\n",
    "Theta_c = P[:,:n_s]*P_inv[:n_s,:]+P[:,n_s:]*(sym.eye(n_u)-Lambda_U)*P_inv[n_s:,:]\n",
    "Phi = P[:,:n_s]*Eta*(P_inv[n_s:,:]*Eta).inv()\n",
    "Theta_z = P[:,:n_s]*P_inv[:n_s,:]-P[:,:n_s]*Phi*P_inv[n_s:,:]"
   ]
  },
  {
   "cell_type": "code",
   "execution_count": null,
   "metadata": {},
   "outputs": [],
   "source": [
    "def solve_system(Gamma0:sym.Matrix, Gamma1:sym.Matrix, C:sym.Matrix, Psi:sym.Matrix, Eta:sym.Matrix)->tuple:\n",
    "    if np.abs(Gamma0.det())<1e-10:\n",
    "        raise ValueError('Gamma0 is not invertible')\n",
    "    Gamma0_inv=Gamma0.inv()\n",
    "    Gamma_1, C, Psi, Eta = Gamma0_inv@Gamma_1, Gamma0_inv@C, Gamma0_inv@Psi, Gamma0_inv@Eta \n",
    "    P, Lambda = Gamma1.diagonalize()\n",
    "    P_inv = P.inv()\n",
    "    ind = list(np.argsort(np.abs(np.diag(np.abs(Lambda)))))\n",
    "    Lambda = sym.diag(*[Lambda[i,i] for i in ind])\n",
    "    P=P.permute_cols(ind)\n",
    "    n_s = len([Lambda[i,i] for i in range(Lambda.rows) if np.abs(Lambda[i,i])<1])\n",
    "    n_u = Lambda.rows-n_s\n",
    "    Lambda_S=Lambda[:n_s,:n_s]\n",
    "    Lambda_U=Lambda[n_s:,n_s:]\n",
    "    Theta_1 = P*sym.diag(Lambda_S, sym.zeros((n_u,n_u)))*P_inv\n",
    "    #Theta_c = P*sym.Matrix([[sym.eye(n_s)],(sym.eye(n_u)-Lambda_U).inv()])*P_inv\n",
    "    #Theta_z = P*sym.Matrix([[sym.eye(Psi.rows), Psi],[0,0]])*P_inv\n",
    "    Theta_c = None\n",
    "    Theta_z = None\n",
    "    return Theta_1, Theta_c, Theta_z"
   ]
  }
 ],
 "metadata": {
  "kernelspec": {
   "display_name": "Python 3.9.13 64-bit (windows store)",
   "language": "python",
   "name": "python3"
  },
  "language_info": {
   "codemirror_mode": {
    "name": "ipython",
    "version": 3
   },
   "file_extension": ".py",
   "mimetype": "text/x-python",
   "name": "python",
   "nbconvert_exporter": "python",
   "pygments_lexer": "ipython3",
   "version": "3.9.13"
  },
  "orig_nbformat": 4,
  "vscode": {
   "interpreter": {
    "hash": "b6211d3380c6fc8b8ff7c7eb49b32c9b972fb045d7b218033824c523dbcd32c9"
   }
  }
 },
 "nbformat": 4,
 "nbformat_minor": 2
}
